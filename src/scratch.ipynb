{
 "cells": [
  {
   "cell_type": "code",
   "execution_count": 3,
   "metadata": {
    "vscode": {
     "languageId": "rust"
    }
   },
   "outputs": [],
   "source": [
    ":dep csv\n",
    ":dep timeit\n",
    ":dep ode_solvers\n",
    "use ode_solvers::dopri5::*;\n",
    "use ode_solvers::*;\n",
    "use csv::Writer;\n",
    "use std::error::Error;\n",
    "use std::fs::File;\n",
    "use timeit::*;"
   ]
  },
  {
   "cell_type": "code",
   "execution_count": 4,
   "metadata": {
    "vscode": {
     "languageId": "rust"
    }
   },
   "outputs": [],
   "source": [
    "type State = Vector1<f64>;\n",
    "type Time = f64;\n",
    "\n",
    "struct Model {\n",
    "    r: f64,\n",
    "    k: f64,\n",
    "}"
   ]
  },
  {
   "cell_type": "code",
   "execution_count": 5,
   "metadata": {
    "vscode": {
     "languageId": "rust"
    }
   },
   "outputs": [],
   "source": [
    "impl ode_solvers::System<State> for Model {\n",
    "    fn system(&self, _t: Time, y: &State, dy: &mut State) {\n",
    "        dy[0] = self.r * y[0] * (1.0 - y[0] / self.k);\n",
    "    }\n",
    "}"
   ]
  },
  {
   "cell_type": "code",
   "execution_count": 6,
   "metadata": {
    "vscode": {
     "languageId": "rust"
    }
   },
   "outputs": [],
   "source": [
    "fn save_to_csv<T>(x_out: &Vec<T>, y_out: &Vec<T>) -> Result<(), Box<dyn Error>>\n",
    "where\n",
    "    T: std::fmt::Display,\n",
    "{\n",
    "    let file = File::create(\"output.csv\")?;\n",
    "    let mut writer = Writer::from_writer(file);\n",
    "\n",
    "    // Write column names\n",
    "    writer.write_record(&[\"x_out\", \"y_out\"])?;\n",
    "\n",
    "    // Write data rows\n",
    "    for (x, y) in x_out.iter().zip(y_out.iter()) {\n",
    "        writer.write_record(&[x.to_string(), y.to_string()])?;\n",
    "    }\n",
    "\n",
    "    writer.flush()?;\n",
    "    Ok(())\n",
    "}\n"
   ]
  },
  {
   "cell_type": "code",
   "execution_count": 13,
   "metadata": {
    "vscode": {
     "languageId": "rust"
    }
   },
   "outputs": [],
   "source": [
    "fn main() {\n",
    "    let system = Model {r: 0.1, k: 1000.};\n",
    "\n",
    "    let t_start = 0.0;\n",
    "    let t_end = 100.0;\n",
    "    let y0 = State::new(100.0); // Initial population size\n",
    "\n",
    "    let mut stepper = Dopri5::new(\n",
    "        system,     // f: F; Structure implementing the System trait\n",
    "        t_start,    // x: f64; Initial value of the independent variable (usually time)\n",
    "        t_end,      // x_end: f64; Final value of the independent variable\n",
    "        10.0,       // dx: f64; Increment in the dense output. This argument has no effect if the output type is Sparse\n",
    "        y0,         // y: OVector<T, D>; Initial value of the dependent variable(s)\n",
    "        1.0e-10,    // rtol: f64; Relative tolerance used in the computation of the adaptive step size\n",
    "        1.0e-10,    // atol: f64: Absolute tolerance used in the computation of the adaptive step size\n",
    "    );\n",
    "    let res = stepper.integrate();\n",
    "\n",
    "    // Handle result\n",
    "    match res {\n",
    "        Ok(stats) => {\n",
    "            // stats.print();\n",
    "            println!(\"{:?}\", stats);\n",
    "\n",
    "            // Do something with the output...\n",
    "            // let path = Path::new(\"./outputs/kepler_orbit_dopri5.dat\"); \n",
    "            // save(stepper.x_out(), stepper.y_out(), path);  \n",
    "            // println!(\"Results saved in: {:?}\", path);\n",
    "            let y_squeezed: Vec<f64> = stepper.y_out().iter().flatten().cloned().collect();\n",
    "\n",
    "            println!(\"{:?}\", stepper.x_out());\n",
    "            println!(\"{:?}\", y_squeezed);\n",
    "\n",
    "            if let Err(err) = save_to_csv(&stepper.x_out(), &y_squeezed) {\n",
    "                eprintln!(\"Error: {}\", err);\n",
    "            } else {\n",
    "                println!(\"Data saved to output.csv\");\n",
    "            }\n",
    "        },\n",
    "        Err(_) => println!(\"An error occured.\"),\n",
    "    }\n",
    "}"
   ]
  },
  {
   "cell_type": "code",
   "execution_count": 14,
   "metadata": {
    "vscode": {
     "languageId": "rust"
    }
   },
   "outputs": [
    {
     "data": {
      "text/plain": [
       "()"
      ]
     },
     "execution_count": 14,
     "metadata": {},
     "output_type": "execute_result"
    }
   ],
   "source": [
    "main()"
   ]
  },
  {
   "cell_type": "code",
   "execution_count": 15,
   "metadata": {
    "vscode": {
     "languageId": "rust"
    }
   },
   "outputs": [
    {
     "name": "stdout",
     "output_type": "stream",
     "text": [
      "10000 loops: 26.6582 µs\n"
     ]
    },
    {
     "data": {
      "text/plain": [
       "()"
      ]
     },
     "execution_count": 15,
     "metadata": {},
     "output_type": "execute_result"
    }
   ],
   "source": [
    "timeit!({\n",
    "    main();\n",
    "})"
   ]
  },
  {
   "cell_type": "code",
   "execution_count": null,
   "metadata": {
    "vscode": {
     "languageId": "rust"
    }
   },
   "outputs": [],
   "source": []
  }
 ],
 "metadata": {
  "kernelspec": {
   "display_name": "Rust",
   "language": "rust",
   "name": "rust"
  },
  "language_info": {
   "codemirror_mode": "rust",
   "file_extension": ".rs",
   "mimetype": "text/rust",
   "name": "Rust",
   "pygment_lexer": "rust",
   "version": ""
  },
  "orig_nbformat": 4
 },
 "nbformat": 4,
 "nbformat_minor": 2
}
