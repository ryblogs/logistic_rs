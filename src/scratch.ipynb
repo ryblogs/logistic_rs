{
 "cells": [
  {
   "cell_type": "code",
   "execution_count": 8,
   "metadata": {
    "vscode": {
     "languageId": "rust"
    }
   },
   "outputs": [],
   "source": [
    ":dep csv\n",
    "// :dep nalgebra\n",
    ":dep ode_solvers\n",
    "use ode_solvers::dopri5::*;\n",
    "use ode_solvers::*;\n",
    "// use nalgebra::{DefaultAllocator, DimName, OVector, Vector1};\n",
    "// use nalgebra::allocator::Allocator;\n",
    "use csv::Writer;\n",
    "use std::error::Error;\n",
    "use std::fs::File;"
   ]
  },
  {
   "cell_type": "code",
   "execution_count": 9,
   "metadata": {
    "vscode": {
     "languageId": "rust"
    }
   },
   "outputs": [],
   "source": [
    "type State = Vector1<f64>;\n",
    "type Time = f64;\n",
    "\n",
    "struct Model {\n",
    "    r: f64,\n",
    "    k: f64,\n",
    "}"
   ]
  },
  {
   "cell_type": "code",
   "execution_count": 10,
   "metadata": {
    "vscode": {
     "languageId": "rust"
    }
   },
   "outputs": [
    {
     "ename": "Error",
     "evalue": "conflicting implementations of trait `ode_solvers::System<nalgebra::base::matrix::Matrix<f64, nalgebra::base::dimension::Const<1>, nalgebra::base::dimension::Const<1>, nalgebra::base::array_storage::ArrayStorage<f64, 1, 1>>>` for type `Model`",
     "output_type": "error",
     "traceback": [
      "\u001b[31m[E0119] Error:\u001b[0m conflicting implementations of trait `ode_solvers::System<nalgebra::base::matrix::Matrix<f64, nalgebra::base::dimension::Const<1>, nalgebra::base::dimension::Const<1>, nalgebra::base::array_storage::ArrayStorage<f64, 1, 1>>>` for type `Model`",
      "   \u001b[38;5;246m╭\u001b[0m\u001b[38;5;246m─\u001b[0m\u001b[38;5;246m[\u001b[0mcommand_10:1:1\u001b[38;5;246m]\u001b[0m",
      "   \u001b[38;5;246m│\u001b[0m",
      " \u001b[38;5;246m1 │\u001b[0m \u001b[38;5;54mi\u001b[0m\u001b[38;5;54mm\u001b[0m\u001b[38;5;54mp\u001b[0m\u001b[38;5;54ml\u001b[0m\u001b[38;5;54m \u001b[0m\u001b[38;5;54mo\u001b[0m\u001b[38;5;54md\u001b[0m\u001b[38;5;54me\u001b[0m\u001b[38;5;54m_\u001b[0m\u001b[38;5;54ms\u001b[0m\u001b[38;5;54mo\u001b[0m\u001b[38;5;54ml\u001b[0m\u001b[38;5;54mv\u001b[0m\u001b[38;5;54me\u001b[0m\u001b[38;5;54mr\u001b[0m\u001b[38;5;54ms\u001b[0m\u001b[38;5;54m:\u001b[0m\u001b[38;5;54m:\u001b[0m\u001b[38;5;54mS\u001b[0m\u001b[38;5;54my\u001b[0m\u001b[38;5;54ms\u001b[0m\u001b[38;5;54mt\u001b[0m\u001b[38;5;54me\u001b[0m\u001b[38;5;54mm\u001b[0m\u001b[38;5;54m<\u001b[0m\u001b[38;5;54mS\u001b[0m\u001b[38;5;54mt\u001b[0m\u001b[38;5;54ma\u001b[0m\u001b[38;5;54mt\u001b[0m\u001b[38;5;54me\u001b[0m\u001b[38;5;54m>\u001b[0m\u001b[38;5;54m \u001b[0m\u001b[38;5;54mf\u001b[0m\u001b[38;5;54mo\u001b[0m\u001b[38;5;54mr\u001b[0m\u001b[38;5;54m \u001b[0m\u001b[38;5;54mM\u001b[0m\u001b[38;5;54mo\u001b[0m\u001b[38;5;54md\u001b[0m\u001b[38;5;54me\u001b[0m\u001b[38;5;54ml\u001b[0m\u001b[38;5;249m \u001b[0m\u001b[38;5;249m{\u001b[0m",
      " \u001b[38;5;246m  ·\u001b[0m \u001b[38;5;54m─\u001b[0m\u001b[38;5;54m─\u001b[0m\u001b[38;5;54m─\u001b[0m\u001b[38;5;54m─\u001b[0m\u001b[38;5;54m─\u001b[0m\u001b[38;5;54m─\u001b[0m\u001b[38;5;54m─\u001b[0m\u001b[38;5;54m─\u001b[0m\u001b[38;5;54m─\u001b[0m\u001b[38;5;54m─\u001b[0m\u001b[38;5;54m─\u001b[0m\u001b[38;5;54m─\u001b[0m\u001b[38;5;54m─\u001b[0m\u001b[38;5;54m─\u001b[0m\u001b[38;5;54m─\u001b[0m\u001b[38;5;54m─\u001b[0m\u001b[38;5;54m─\u001b[0m\u001b[38;5;54m─\u001b[0m\u001b[38;5;54m─\u001b[0m\u001b[38;5;54m─\u001b[0m\u001b[38;5;54m┬\u001b[0m\u001b[38;5;54m─\u001b[0m\u001b[38;5;54m─\u001b[0m\u001b[38;5;54m─\u001b[0m\u001b[38;5;54m─\u001b[0m\u001b[38;5;54m─\u001b[0m\u001b[38;5;54m─\u001b[0m\u001b[38;5;54m─\u001b[0m\u001b[38;5;54m─\u001b[0m\u001b[38;5;54m─\u001b[0m\u001b[38;5;54m─\u001b[0m\u001b[38;5;54m─\u001b[0m\u001b[38;5;54m─\u001b[0m\u001b[38;5;54m─\u001b[0m\u001b[38;5;54m─\u001b[0m\u001b[38;5;54m─\u001b[0m\u001b[38;5;54m─\u001b[0m\u001b[38;5;54m─\u001b[0m\u001b[38;5;54m─\u001b[0m\u001b[38;5;54m─\u001b[0m\u001b[38;5;54m─\u001b[0m  ",
      " \u001b[38;5;246m  ·\u001b[0m                     \u001b[38;5;54m╰\u001b[0m\u001b[38;5;54m─\u001b[0m\u001b[38;5;54m─\u001b[0m\u001b[38;5;54m─\u001b[0m\u001b[38;5;54m─\u001b[0m\u001b[38;5;54m─\u001b[0m\u001b[38;5;54m─\u001b[0m\u001b[38;5;54m─\u001b[0m\u001b[38;5;54m─\u001b[0m\u001b[38;5;54m─\u001b[0m\u001b[38;5;54m─\u001b[0m\u001b[38;5;54m─\u001b[0m\u001b[38;5;54m─\u001b[0m\u001b[38;5;54m─\u001b[0m\u001b[38;5;54m─\u001b[0m\u001b[38;5;54m─\u001b[0m\u001b[38;5;54m─\u001b[0m\u001b[38;5;54m─\u001b[0m\u001b[38;5;54m─\u001b[0m\u001b[38;5;54m─\u001b[0m\u001b[38;5;54m─\u001b[0m\u001b[38;5;54m─\u001b[0m\u001b[38;5;54m─\u001b[0m conflicting implementation for `Model`",
      "\u001b[38;5;246m───╯\u001b[0m"
     ]
    }
   ],
   "source": [
    "impl ode_solvers::System<State> for Model {\n",
    "    fn system(&self, _t: Time, y: &State, dy: &mut State) {\n",
    "        dy[0] = self.r * y[0] * (1.0 - y[0] / self.k);\n",
    "    }\n",
    "}"
   ]
  },
  {
   "cell_type": "code",
   "execution_count": 11,
   "metadata": {
    "vscode": {
     "languageId": "rust"
    }
   },
   "outputs": [],
   "source": [
    "fn save_to_csv<T>(x_out: &Vec<T>, y_out: &Vec<T>) -> Result<(), Box<dyn Error>>\n",
    "where\n",
    "    T: std::fmt::Display,\n",
    "{\n",
    "    let file = File::create(\"output.csv\")?;\n",
    "    let mut writer = Writer::from_writer(file);\n",
    "\n",
    "    // Write column names\n",
    "    writer.write_record(&[\"x_out\", \"y_out\"])?;\n",
    "\n",
    "    // Write data rows\n",
    "    for (x, y) in x_out.iter().zip(y_out.iter()) {\n",
    "        writer.write_record(&[x.to_string(), y.to_string()])?;\n",
    "    }\n",
    "\n",
    "    writer.flush()?;\n",
    "    Ok(())\n",
    "}\n"
   ]
  },
  {
   "cell_type": "code",
   "execution_count": 12,
   "metadata": {
    "vscode": {
     "languageId": "rust"
    }
   },
   "outputs": [],
   "source": [
    "fn main() {\n",
    "    let system = Model {r: 0.1, k: 1000.};\n",
    "\n",
    "    let t_start = 0.0;\n",
    "    let t_end = 100.0;\n",
    "    let y0 = State::new(100.0); // Initial population size\n",
    "\n",
    "    let mut stepper = Dopri5::new(\n",
    "        system,     // f: F; Structure implementing the System trait\n",
    "        t_start,    // x: f64; Initial value of the independent variable (usually time)\n",
    "        t_end,      // x_end: f64; Final value of the independent variable\n",
    "        10.0,       // dx: f64; Increment in the dense output. This argument has no effect if the output type is Sparse\n",
    "        y0,         // y: OVector<T, D>; Initial value of the dependent variable(s)\n",
    "        1.0e-10,    // rtol: f64; Relative tolerance used in the computation of the adaptive step size\n",
    "        1.0e-10,    // atol: f64: Absolute tolerance used in the computation of the adaptive step size\n",
    "    );\n",
    "    let res = stepper.integrate();\n",
    "\n",
    "    // Handle result\n",
    "    match res {\n",
    "        Ok(stats) => {\n",
    "            // stats.print();\n",
    "            println!(\"{:?}\", stats);\n",
    "\n",
    "            // Do something with the output...\n",
    "            // let path = Path::new(\"./outputs/kepler_orbit_dopri5.dat\"); \n",
    "            // save(stepper.x_out(), stepper.y_out(), path);  \n",
    "            // println!(\"Results saved in: {:?}\", path);\n",
    "            let y_squeezed: Vec<f64> = stepper.y_out().iter().flatten().cloned().collect();\n",
    "\n",
    "            println!(\"{:?}\", stepper.x_out());\n",
    "            println!(\"{:?}\", y_squeezed);\n",
    "\n",
    "            if let Err(err) = save_to_csv(&stepper.x_out(), &y_squeezed) {\n",
    "                eprintln!(\"Error: {}\", err);\n",
    "            } else {\n",
    "                println!(\"Data saved to output.csv\");\n",
    "            }\n",
    "        },\n",
    "        Err(_) => println!(\"An error occured.\"),\n",
    "    }\n",
    "}"
   ]
  },
  {
   "cell_type": "code",
   "execution_count": 13,
   "metadata": {
    "vscode": {
     "languageId": "rust"
    }
   },
   "outputs": [
    {
     "name": "stdout",
     "output_type": "stream",
     "text": [
      "Stats { num_eval: 1227, accepted_steps: 204, rejected_steps: 0 }\n",
      "[0.0, 10.0, 20.0, 30.0, 40.0, 50.0, 60.0, 70.0, 80.0, 90.0, 100.0]\n",
      "[100.0, 231.96931668411546, 450.85306037969326, 690.5678577033374, 858.4864497526571, 942.8256185719928, 978.1780512226178, 991.8598678523975, 996.9899242512254, 998.8905440213778, 999.5915675044218]\n",
      "Data saved to output.csv\n"
     ]
    },
    {
     "data": {
      "text/plain": [
       "()"
      ]
     },
     "execution_count": 13,
     "metadata": {},
     "output_type": "execute_result"
    }
   ],
   "source": [
    "main()"
   ]
  },
  {
   "cell_type": "code",
   "execution_count": null,
   "metadata": {
    "vscode": {
     "languageId": "rust"
    }
   },
   "outputs": [],
   "source": []
  }
 ],
 "metadata": {
  "kernelspec": {
   "display_name": "Rust",
   "language": "rust",
   "name": "rust"
  },
  "language_info": {
   "codemirror_mode": "rust",
   "file_extension": ".rs",
   "mimetype": "text/rust",
   "name": "Rust",
   "pygment_lexer": "rust",
   "version": ""
  },
  "orig_nbformat": 4
 },
 "nbformat": 4,
 "nbformat_minor": 2
}
